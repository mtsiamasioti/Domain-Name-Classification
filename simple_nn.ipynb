{
 "cells": [
  {
   "cell_type": "code",
   "execution_count": 1,
   "id": "68ca3c73",
   "metadata": {
    "ExecuteTime": {
     "end_time": "2022-06-12T19:27:48.625066Z",
     "start_time": "2022-06-12T19:27:48.618188Z"
    }
   },
   "outputs": [
    {
     "data": {
      "text/html": [
       "<style>.container { width:90% !important; }</style>"
      ],
      "text/plain": [
       "<IPython.core.display.HTML object>"
      ]
     },
     "metadata": {},
     "output_type": "display_data"
    }
   ],
   "source": [
    "from IPython.display import display, HTML\n",
    "display(HTML(\"<style>.container { width:90% !important; }</style>\"))"
   ]
  },
  {
   "cell_type": "markdown",
   "id": "adf6f8c0",
   "metadata": {},
   "source": [
    "NOTE: THE IMPORT BELOW NEEDS TO BE EXECUTED TWO TIMES -- THE FIRST TIME WILL CAUSE AN ERROR BUT THE SECOND WILL BE SUCCESSFULL"
   ]
  },
  {
   "cell_type": "code",
   "execution_count": 3,
   "id": "4e5d1297",
   "metadata": {
    "ExecuteTime": {
     "end_time": "2022-06-12T19:27:54.001726Z",
     "start_time": "2022-06-12T19:27:53.999792Z"
    }
   },
   "outputs": [],
   "source": [
    "#import imblearn\n",
    "from imblearn.over_sampling import SMOTE"
   ]
  },
  {
   "cell_type": "code",
   "execution_count": 4,
   "id": "ef6e9b2d",
   "metadata": {
    "ExecuteTime": {
     "end_time": "2022-06-12T19:28:01.896259Z",
     "start_time": "2022-06-12T19:27:58.704072Z"
    }
   },
   "outputs": [],
   "source": [
    "# IMPORTS\n",
    "import csv\n",
    "import re\n",
    "import zipfile\n",
    "import pickle\n",
    "import os\n",
    "from io import BytesIO\n",
    "import networkx as nx\n",
    "import numpy as np\n",
    "import pandas as pd\n",
    "import matplotlib.pyplot as plt\n",
    "import seaborn as sns\n",
    "import scipy.sparse as sp\n",
    "plt.style.use('ggplot')\n",
    "\n",
    "import spacy\n",
    "#python -m spacy download el_core_news_sm -- rin in cmd\n",
    "nlp = spacy.load(\"el_core_news_sm\")\n",
    "nlp.max_length = 3000000\n",
    "\n",
    "import nltk\n",
    "#nltk.download(\"punkt\")\n",
    "import string\n",
    "from nltk import WhitespaceTokenizer\n",
    "\n",
    "from gensim.models import KeyedVectors, Word2Vec\n",
    "from gensim.models.doc2vec import Doc2Vec, TaggedDocument\n",
    "\n",
    "from sklearn.feature_extraction.text import TfidfVectorizer\n",
    "from sklearn.decomposition import TruncatedSVD, PCA\n",
    "from sklearn.manifold import TSNE\n",
    "from sklearn.preprocessing import StandardScaler\n",
    "from sklearn.linear_model import LogisticRegression\n",
    "from sklearn.naive_bayes import GaussianNB\n",
    "from sklearn.ensemble import RandomForestClassifier\n",
    "from sklearn.model_selection import train_test_split\n",
    "from sklearn.model_selection import GridSearchCV\n",
    "from sklearn.metrics import accuracy_score\n",
    "\n",
    "import lightgbm as lgb"
   ]
  },
  {
   "cell_type": "code",
   "execution_count": 5,
   "id": "50661ea5",
   "metadata": {
    "ExecuteTime": {
     "end_time": "2022-06-12T16:14:10.807045Z",
     "start_time": "2022-06-12T16:14:10.804336Z"
    }
   },
   "outputs": [],
   "source": [
    "import torch\n",
    "import torch.nn as nn\n",
    "import torch.nn.functional as F\n",
    "import torch.utils.data as utils\n",
    "import torch.optim as optim\n",
    "from torch.utils.data.sampler import WeightedRandomSampler\n",
    "from torch.utils.data import Dataset, DataLoader\n",
    "\n",
    "import pickle"
   ]
  },
  {
   "cell_type": "code",
   "execution_count": 6,
   "id": "7387b253",
   "metadata": {
    "ExecuteTime": {
     "end_time": "2022-06-12T16:14:11.272566Z",
     "start_time": "2022-06-12T16:14:11.269094Z"
    }
   },
   "outputs": [
    {
     "name": "stdout",
     "output_type": "stream",
     "text": [
      "Device is cuda. Device type: NVIDIA GeForce RTX 3060.\n"
     ]
    }
   ],
   "source": [
    "device = 'cuda' if torch.cuda.is_available() else 'cpu'\n",
    "#device = 'cpu'\n",
    "gpu = f\" Device type: {torch.cuda.get_device_name()}.\" if device=='cuda' else \"\"\n",
    "print(f\"Device is {device}.\"+gpu )"
   ]
  },
  {
   "cell_type": "code",
   "execution_count": 74,
   "id": "82ac3497",
   "metadata": {
    "ExecuteTime": {
     "end_time": "2022-06-12T17:22:01.424082Z",
     "start_time": "2022-06-12T17:22:01.421485Z"
    }
   },
   "outputs": [],
   "source": [
    "#Creating dictionaries to use in the confusion matrix\n",
    "\n",
    "#Defining dictionary for 10 types of clases\n",
    "classes = {0:'0', 1:'1', 2:'2', 3:'3', 4:'4',\n",
    "               5:'5', 6:'6', 7:'7', 8:'8', 9:'9'}\n",
    "\n",
    "#Defining dictionary that holds two types of model\n",
    "models = {0: \"Naive Bayes\",1: \"Random Forest\",2: \"LightGBM\",3: \"Logistic Regression\",4: \"MLP\",5 : \"CNN\"}"
   ]
  },
  {
   "cell_type": "code",
   "execution_count": 75,
   "id": "512252c0",
   "metadata": {
    "ExecuteTime": {
     "end_time": "2022-06-12T17:22:02.467791Z",
     "start_time": "2022-06-12T17:22:02.463965Z"
    }
   },
   "outputs": [],
   "source": [
    "#Building function to plot the confusion matrix as a heatmap\n",
    "def conf_matr(y_t,y_pred,class_index,classes_dict=classes,model_dict=models):\n",
    "    #Confusion matrix\n",
    "    conf_m = confusion_matrix(y_t,y_pred)\n",
    "\n",
    "    #Building data frame to \n",
    "    df_cm = pd.DataFrame(conf_m, index = [i for i in classes_dict.values()],\n",
    "                  columns = [i for i in classes_dict.values()])\n",
    "    fig,ax = plt.subplots(figsize=(10,10))\n",
    "    sns.heatmap(df_cm, annot=True, cmap='Greens',fmt='.3g',cbar=False)\n",
    "    \n",
    "    ax.set_xlabel('Predicted classes', fontsize=14, weight='bold')\n",
    "    ax.set_ylabel('True classes', fontsize=14, weight='bold')\n",
    "    ax.set_title(f'Confusion matrix of {model_dict[class_index]} classifier', fontsize=17, weight='bold')\n",
    "\n",
    "    plt.show()"
   ]
  },
  {
   "cell_type": "code",
   "execution_count": 7,
   "id": "ed993b0c",
   "metadata": {
    "ExecuteTime": {
     "end_time": "2022-06-12T16:14:11.776902Z",
     "start_time": "2022-06-12T16:14:11.772122Z"
    }
   },
   "outputs": [],
   "source": [
    "# Read training data\n",
    "train_domains = list()\n",
    "y_train = list()\n",
    "with open(\"train.txt\", \"r\") as f:\n",
    "    for line in f:\n",
    "        l = line.split(\",\")\n",
    "        train_domains.append(l[0])\n",
    "        y_train.append(l[1][:-1])\n",
    "y_train = np.array(list(map(int, y_train)))\n",
    "\n",
    "# Read test data\n",
    "test_domains = list()\n",
    "with open(\"test.txt\", \"r\") as f:\n",
    "    for line in f:\n",
    "        l = line.split(\",\")\n",
    "        test_domains.append(l[0])"
   ]
  },
  {
   "cell_type": "code",
   "execution_count": 8,
   "id": "c9eb5891",
   "metadata": {
    "ExecuteTime": {
     "end_time": "2022-06-12T16:14:12.465020Z",
     "start_time": "2022-06-12T16:14:12.460185Z"
    }
   },
   "outputs": [
    {
     "data": {
      "text/plain": [
       "((1258, 32), (1258, 32), (547, 32), (547, 32))"
      ]
     },
     "execution_count": 8,
     "metadata": {},
     "output_type": "execute_result"
    }
   ],
   "source": [
    "#LOAD DATA\n",
    "with open('X_train_text_d2v', 'rb') as handle:\n",
    "    X_train_text = pickle.load(handle)\n",
    "with open('X_train_graph_n2v', 'rb') as handle:\n",
    "    X_train_graph = pickle.load(handle)\n",
    "    \n",
    "    \n",
    "with open('X_test_text_d2v', 'rb') as handle:\n",
    "    X_test_text = pickle.load(handle)\n",
    "with open('X_test_graph_n2v', 'rb') as handle:\n",
    "    X_test_graph = pickle.load(handle)\n",
    "    \n",
    "X_train_text.shape, X_train_graph.shape, X_test_text.shape, X_test_graph.shape"
   ]
  },
  {
   "cell_type": "code",
   "execution_count": 9,
   "id": "4cd31191",
   "metadata": {
    "ExecuteTime": {
     "end_time": "2022-06-12T16:14:13.375098Z",
     "start_time": "2022-06-12T16:14:13.148803Z"
    }
   },
   "outputs": [
    {
     "data": {
      "image/png": "[encoded data removed]",
      "text/plain": [
       "<Figure size 432x288 with 1 Axes>"
      ]
     },
     "metadata": {
      "needs_background": "light"
     },
     "output_type": "display_data"
    }
   ],
   "source": [
    "pd.DataFrame(y_train).value_counts().plot.bar(); #imbalanced dataset"
   ]
  },
  {
   "cell_type": "markdown",
   "id": "332ef7ba",
   "metadata": {},
   "source": [
    "### Train - We work only with train data"
   ]
  },
  {
   "cell_type": "code",
   "execution_count": 10,
   "id": "5763ee02",
   "metadata": {
    "ExecuteTime": {
     "end_time": "2022-06-12T16:14:14.376514Z",
     "start_time": "2022-06-12T16:14:14.371671Z"
    }
   },
   "outputs": [],
   "source": [
    "#Step 1: Train and test seperately\n",
    "X_train_text, X_val_text, y_train_text, y_val_text = train_test_split(\n",
    "    X_train_text, y_train, test_size=0.2, random_state=123, stratify=y_train)\n",
    "X_train_graph, X_val_graph, y_train_graph, y_val_graph = train_test_split(\n",
    "    X_train_graph, y_train, test_size=0.2, random_state=123, stratify=y_train)"
   ]
  },
  {
   "cell_type": "code",
   "execution_count": 11,
   "id": "024add30",
   "metadata": {
    "ExecuteTime": {
     "end_time": "2022-06-12T16:14:14.831876Z",
     "start_time": "2022-06-12T16:14:14.827966Z"
    }
   },
   "outputs": [],
   "source": [
    "#Step 2: Scaling the Data, for graph and text seperately\n",
    "\n",
    "scaler = StandardScaler()\n",
    "X_train_text = scaler.fit_transform(X_train_text)\n",
    "X_train_graph = scaler.fit_transform(X_train_graph)\n",
    "X_val_text = scaler.transform(X_val_text)\n",
    "X_val_graph = scaler.transform(X_val_graph)"
   ]
  },
  {
   "cell_type": "code",
   "execution_count": 12,
   "id": "45e95558",
   "metadata": {
    "ExecuteTime": {
     "end_time": "2022-06-12T16:14:15.534782Z",
     "start_time": "2022-06-12T16:14:15.532205Z"
    }
   },
   "outputs": [],
   "source": [
    "#Step 3: Combine text and graph data\n",
    "X_train = np.hstack((X_train_text, X_train_graph))\n",
    "X_val = np.hstack((X_val_text, X_val_graph))\n",
    "\n",
    "y_train = y_train_graph #they are the same\n",
    "y_val = y_val_graph"
   ]
  },
  {
   "cell_type": "code",
   "execution_count": 13,
   "id": "8ea9ef3e",
   "metadata": {
    "ExecuteTime": {
     "end_time": "2022-06-12T16:14:16.720018Z",
     "start_time": "2022-06-12T16:14:16.707891Z"
    }
   },
   "outputs": [
    {
     "name": "stdout",
     "output_type": "stream",
     "text": [
      "(2750, 64) (2750,)\n"
     ]
    }
   ],
   "source": [
    "#Step 4: Data Augmentation to make up for under-represented classes\n",
    "over = SMOTE(random_state=123)\n",
    "X_train_new, y_train_new = over.fit_resample(X_train, y_train)\n",
    "print(X_train_new.shape, y_train_new.shape)"
   ]
  },
  {
   "cell_type": "code",
   "execution_count": 14,
   "id": "e7fce97a",
   "metadata": {
    "ExecuteTime": {
     "end_time": "2022-06-12T16:14:17.601315Z",
     "start_time": "2022-06-12T16:14:17.516654Z"
    }
   },
   "outputs": [
    {
     "data": {
      "image/png": "[encoded data removed]",
      "text/plain": [
       "<Figure size 432x288 with 1 Axes>"
      ]
     },
     "metadata": {
      "needs_background": "light"
     },
     "output_type": "display_data"
    }
   ],
   "source": [
    "pd.DataFrame(y_train_new).value_counts().plot.bar(); #balanced dataset"
   ]
  },
  {
   "cell_type": "code",
   "execution_count": 15,
   "id": "913b5d10",
   "metadata": {
    "ExecuteTime": {
     "end_time": "2022-06-12T16:14:18.360439Z",
     "start_time": "2022-06-12T16:14:18.357484Z"
    }
   },
   "outputs": [],
   "source": [
    "#Create tensor datasets\n",
    "class CustomDataset(Dataset):\n",
    "    def __init__(self, x_tensor, y_tensor):\n",
    "        self.x = x_tensor\n",
    "        self.y = y_tensor\n",
    "        \n",
    "    def __getitem__(self, index):\n",
    "        return (self.x[index], self.y[index])\n",
    "    \n",
    "    def __len__(self):\n",
    "        return len(self.x)"
   ]
  },
  {
   "cell_type": "code",
   "execution_count": 46,
   "id": "48230868",
   "metadata": {
    "ExecuteTime": {
     "end_time": "2022-06-12T16:21:48.121595Z",
     "start_time": "2022-06-12T16:21:48.119255Z"
    }
   },
   "outputs": [],
   "source": [
    "#Hyperparameters\n",
    "batch_size = 32\n",
    "hidden_dim = 128\n",
    "dropout = 0.5\n",
    "n_classes = 10\n",
    "n_epochs = 200\n",
    "input_dim = X_train_new.shape[1]"
   ]
  },
  {
   "cell_type": "code",
   "execution_count": 47,
   "id": "d2703eab",
   "metadata": {
    "ExecuteTime": {
     "end_time": "2022-06-12T16:21:48.504345Z",
     "start_time": "2022-06-12T16:21:48.501036Z"
    }
   },
   "outputs": [],
   "source": [
    "train_dataset = CustomDataset(torch.Tensor(X_train_new).float(), torch.Tensor(y_train_new).float())\n",
    "val_dataset = CustomDataset(torch.Tensor(X_val).float(), torch.Tensor(y_val).float())\n",
    "\n",
    "train_loader = DataLoader(dataset=train_dataset, batch_size=batch_size, shuffle=True)\n",
    "val_loader = DataLoader(dataset=val_dataset)"
   ]
  },
  {
   "cell_type": "code",
   "execution_count": 85,
   "id": "c0e1546e",
   "metadata": {
    "ExecuteTime": {
     "end_time": "2022-06-12T17:31:04.366055Z",
     "start_time": "2022-06-12T17:31:04.362795Z"
    }
   },
   "outputs": [],
   "source": [
    "class kmodel(nn.Module):\n",
    "    def __init__(self, input_dim, hidden_dim, dropout, n_classes):\n",
    "        super().__init__()\n",
    "        self.net = nn.Sequential(\n",
    "            nn.Linear(in_features=input_dim, out_features=hidden_dim),\n",
    "            nn.ReLU(),\n",
    "            #nn.Dropout(0.5),\n",
    "            #nn.Linear(in_features=hidden_dim, out_features=hidden_dim),\n",
    "            #nn.ReLU(),\n",
    "            nn.Dropout(dropout),\n",
    "            nn.Linear(in_features=hidden_dim, out_features=n_classes),\n",
    "            nn.LogSoftmax(dim=1)\n",
    "        )\n",
    "    \n",
    "    def forward(self, x):\n",
    "        z = self.net(x)\n",
    "        return z"
   ]
  },
  {
   "cell_type": "code",
   "execution_count": 49,
   "id": "06cd0927",
   "metadata": {
    "ExecuteTime": {
     "end_time": "2022-06-12T16:21:49.185195Z",
     "start_time": "2022-06-12T16:21:49.182285Z"
    }
   },
   "outputs": [],
   "source": [
    "def _train_step(model, optimizer, loss_fn):\n",
    "    \n",
    "    def step(X, y):\n",
    "        model.train()\n",
    "        pred = model(X)\n",
    "        loss = loss_fn(pred, y.long())\n",
    "        loss.backward()\n",
    "        optimizer.step()\n",
    "        optimizer.zero_grad()\n",
    "        return loss.item()\n",
    "    \n",
    "    return step      "
   ]
  },
  {
   "cell_type": "code",
   "execution_count": 50,
   "id": "01847974",
   "metadata": {
    "ExecuteTime": {
     "end_time": "2022-06-12T16:21:49.560724Z",
     "start_time": "2022-06-12T16:21:49.557105Z"
    }
   },
   "outputs": [
    {
     "name": "stderr",
     "output_type": "stream",
     "text": [
      "/opt/venv/causal/lib/python3.8/site-packages/sklearn/utils/validation.py:70: FutureWarning: Pass classes=[0 1 2 3 4 5 6 7 8 9], y=[0 3 2 ... 9 9 9] as keyword args. From version 1.0 (renaming of 0.25) passing these as positional arguments will result in an error\n",
      "  warnings.warn(f\"Pass {args_msg} as keyword args. From version \"\n"
     ]
    }
   ],
   "source": [
    "from sklearn.utils import class_weight\n",
    "class_weights=class_weight.compute_class_weight('balanced',np.unique(y_train_new),y_train_new)\n",
    "class_weights=torch.tensor(class_weights,dtype=torch.float)"
   ]
  },
  {
   "cell_type": "code",
   "execution_count": 51,
   "id": "59c5323d",
   "metadata": {
    "ExecuteTime": {
     "end_time": "2022-06-12T16:21:49.963857Z",
     "start_time": "2022-06-12T16:21:49.951921Z"
    }
   },
   "outputs": [],
   "source": [
    "model = kmodel(input_dim=input_dim, hidden_dim=hidden_dim, dropout=dropout, n_classes=n_classes)\n",
    "loss_fn = nn.CrossEntropyLoss(weight=class_weights.to(device))\n",
    "optimizer = optim.Adam(params=model.parameters(), lr=0.00001)"
   ]
  },
  {
   "cell_type": "code",
   "execution_count": 52,
   "id": "bf54bc19",
   "metadata": {
    "ExecuteTime": {
     "end_time": "2022-06-12T16:22:04.670001Z",
     "start_time": "2022-06-12T16:21:50.325574Z"
    }
   },
   "outputs": [
    {
     "name": "stdout",
     "output_type": "stream",
     "text": [
      "Epoch: 0, Train Loss: 2.3116547895032307, Validation Loss: 2.379054546356201\n",
      "Epoch: 20, Train Loss: 2.0398237095322718, Validation Loss: 1.9396226406097412\n",
      "Epoch: 40, Train Loss: 1.7882567907488622, Validation Loss: 1.6581121683120728\n",
      "Epoch: 60, Train Loss: 1.5754705681357273, Validation Loss: 1.5682622194290161\n",
      "Epoch: 80, Train Loss: 1.3774607846903246, Validation Loss: 1.4061583280563354\n",
      "Epoch: 100, Train Loss: 1.2317502699619116, Validation Loss: 1.4391913414001465\n",
      "Epoch: 120, Train Loss: 1.0918588596721028, Validation Loss: 1.3478244543075562\n",
      "Epoch: 140, Train Loss: 0.9774547683638196, Validation Loss: 1.3862003087997437\n",
      "Epoch: 160, Train Loss: 0.9074463269045187, Validation Loss: 1.4214435815811157\n",
      "Epoch: 180, Train Loss: 0.8422430088353712, Validation Loss: 1.371079921722412\n"
     ]
    }
   ],
   "source": [
    "model = model.to(device)\n",
    "train_step = _train_step(model, optimizer, loss_fn)\n",
    "\n",
    "train_loss = []\n",
    "eval_loss = []\n",
    "best_val_loss = 100\n",
    "\n",
    "for epoch in range(n_epochs):\n",
    "    t_loss = []\n",
    "    for x,y in train_loader:\n",
    "        x = x.to(device)\n",
    "        y = y.to(device)\n",
    "        \n",
    "        loss = train_step(x, y)\n",
    "        t_loss.append(loss)\n",
    "    train_loss.append(np.mean(t_loss))   \n",
    "\n",
    "    with torch.no_grad():\n",
    "        preds = model(val_dataset.x.to(device))\n",
    "        loss = loss_fn(preds, val_dataset.y.long().to(device))\n",
    "        eval_loss.append(loss.cpu())\n",
    "\n",
    "    # Remember best validation loss and save checkpoint\n",
    "    is_best = loss <= best_val_loss\n",
    "    best_val_loss = min(loss, best_val_loss)\n",
    "    if is_best:\n",
    "        torch.save({\n",
    "            'state_dict': model.state_dict(),\n",
    "            'optimizer' : optimizer.state_dict(),\n",
    "        }, 'model_best.pth.tar')\n",
    "        \n",
    "    if epoch%20 == 0:\n",
    "        print(f'Epoch: {epoch}, Train Loss: {train_loss[-1]}, Validation Loss: {eval_loss[-1]}')"
   ]
  },
  {
   "cell_type": "code",
   "execution_count": 55,
   "id": "97cb7ebd",
   "metadata": {
    "ExecuteTime": {
     "end_time": "2022-06-12T16:22:50.943505Z",
     "start_time": "2022-06-12T16:22:50.837765Z"
    }
   },
   "outputs": [
    {
     "data": {
      "image/png": "[encoded data removed]",
      "text/plain": [
       "<Figure size 1152x504 with 1 Axes>"
      ]
     },
     "metadata": {
      "needs_background": "light"
     },
     "output_type": "display_data"
    }
   ],
   "source": [
    "fig, ax =plt.subplots(figsize=(16, 7))\n",
    "ax.plot(train_loss, label='train')\n",
    "ax.plot(eval_loss, label='val')\n",
    "plt.legend();"
   ]
  },
  {
   "cell_type": "code",
   "execution_count": 53,
   "id": "503cdf79",
   "metadata": {
    "ExecuteTime": {
     "end_time": "2022-06-12T16:22:06.320945Z",
     "start_time": "2022-06-12T16:22:06.270001Z"
    }
   },
   "outputs": [
    {
     "data": {
      "text/plain": [
       "0.6388888888888888"
      ]
     },
     "execution_count": 53,
     "metadata": {},
     "output_type": "execute_result"
    }
   ],
   "source": [
    "# Make predictions\n",
    "checkpoint = torch.load('model_best.pth.tar')\n",
    "model.load_state_dict(checkpoint['state_dict'])\n",
    "model.eval()\n",
    "y_pred = list()\n",
    "for x in val_loader:\n",
    "    x = x[0].to(device)\n",
    "    output = model(x)\n",
    "    y_pred.append(torch.exp(output))\n",
    "y_pred = torch.cat(y_pred, dim=0).detach().cpu().numpy()\n",
    "accuracy_score(y_pred.argmax(axis=1), y_val)"
   ]
  },
  {
   "cell_type": "code",
   "execution_count": 73,
   "id": "02b05cea",
   "metadata": {
    "ExecuteTime": {
     "end_time": "2022-06-12T17:21:01.719028Z",
     "start_time": "2022-06-12T17:21:01.713876Z"
    }
   },
   "outputs": [
    {
     "name": "stdout",
     "output_type": "stream",
     "text": [
      "              precision    recall  f1-score   support\n",
      "\n",
      "           0       0.93      0.55      0.69       112\n",
      "           1       0.75      0.95      0.84        22\n",
      "           2       0.37      0.59      0.46        22\n",
      "           3       0.64      0.92      0.75        48\n",
      "           4       0.64      0.44      0.52        16\n",
      "           5       0.50      0.62      0.56         8\n",
      "           6       0.21      0.25      0.23        12\n",
      "           7       0.33      0.67      0.44         3\n",
      "           8       0.00      0.00      0.00         1\n",
      "           9       0.50      0.50      0.50         8\n",
      "\n",
      "    accuracy                           0.64       252\n",
      "   macro avg       0.49      0.55      0.50       252\n",
      "weighted avg       0.72      0.64      0.65       252\n",
      "\n"
     ]
    }
   ],
   "source": [
    "print(classification_report(y_pred.argmax(axis=1), y_val))"
   ]
  },
  {
   "cell_type": "code",
   "execution_count": 76,
   "id": "a01e2912",
   "metadata": {
    "ExecuteTime": {
     "end_time": "2022-06-12T17:22:14.730818Z",
     "start_time": "2022-06-12T17:22:14.464538Z"
    }
   },
   "outputs": [
    {
     "data": {
      "image/png": "[encoded data removed]",
      "text/plain": [
       "<Figure size 720x720 with 1 Axes>"
      ]
     },
     "metadata": {
      "needs_background": "light"
     },
     "output_type": "display_data"
    }
   ],
   "source": [
    "conf_matr(np.array(list(map(int, y_val_text))), np.argmax(y_pred, axis=1),4)"
   ]
  },
  {
   "cell_type": "code",
   "execution_count": 56,
   "id": "92fed5ec",
   "metadata": {
    "ExecuteTime": {
     "end_time": "2022-06-12T16:23:13.448030Z",
     "start_time": "2022-06-12T16:22:58.781460Z"
    }
   },
   "outputs": [
    {
     "name": "stdout",
     "output_type": "stream",
     "text": [
      "0.6309523809523809\n"
     ]
    }
   ],
   "source": [
    "#BASELINE LR\n",
    "from sklearn.linear_model import LogisticRegressionCV\n",
    "from sklearn.metrics import accuracy_score \n",
    "\n",
    "weights = {k:v for k,v in zip(range(10), class_weights.numpy())}\n",
    "clf = LogisticRegressionCV(max_iter=10000, n_jobs=-1, random_state=123, class_weight=weights)\n",
    "clf.fit(X_train_new, y_train_new)\n",
    "print(accuracy_score(clf.predict(X_val), y_val))"
   ]
  },
  {
   "cell_type": "markdown",
   "id": "4782e2d9",
   "metadata": {},
   "source": [
    "### Hypertuning "
   ]
  },
  {
   "cell_type": "code",
   "execution_count": 58,
   "id": "bd820e7f",
   "metadata": {
    "ExecuteTime": {
     "end_time": "2022-06-12T16:23:45.117051Z",
     "start_time": "2022-06-12T16:23:44.925143Z"
    }
   },
   "outputs": [],
   "source": [
    "import optuna"
   ]
  },
  {
   "cell_type": "code",
   "execution_count": 59,
   "id": "cadfff6b",
   "metadata": {
    "ExecuteTime": {
     "end_time": "2022-06-12T16:23:45.361287Z",
     "start_time": "2022-06-12T16:23:45.356876Z"
    }
   },
   "outputs": [],
   "source": [
    "def define_model(trial):\n",
    "    # We optimize the number of layers, hidden untis and dropout ratio in each layer.\n",
    "    n_layers = trial.suggest_int(\"n_layers\", 1, 3)\n",
    "    layers = []\n",
    "\n",
    "    in_features = input_dim\n",
    "    for i in range(n_layers):\n",
    "        out_features = trial.suggest_int(\"n_units_l{}\".format(i), 4, 128)\n",
    "        layers.append(nn.Linear(in_features, out_features))\n",
    "        layers.append(nn.ReLU())\n",
    "        p = trial.suggest_uniform(\"dropout_l{}\".format(i), 0.2, 0.5)\n",
    "        layers.append(nn.Dropout(p))\n",
    "\n",
    "        in_features = out_features\n",
    "    layers.append(nn.Linear(in_features, n_classes))\n",
    "    layers.append(nn.LogSoftmax(dim=1))\n",
    "\n",
    "    return nn.Sequential(*layers)"
   ]
  },
  {
   "cell_type": "code",
   "execution_count": 60,
   "id": "2bd49668",
   "metadata": {
    "ExecuteTime": {
     "end_time": "2022-06-12T16:23:45.844593Z",
     "start_time": "2022-06-12T16:23:45.839414Z"
    }
   },
   "outputs": [],
   "source": [
    "def objective(trial):\n",
    "\n",
    "    # Generate the model.\n",
    "    model = define_model(trial).to(device)\n",
    "\n",
    "    # Generate the optimizers.\n",
    "    optimizer_name = trial.suggest_categorical(\"optimizer\", [\"Adam\", \"RMSprop\", \"SGD\"])\n",
    "    lr = trial.suggest_loguniform(\"lr\", 1e-5, 1e-1)\n",
    "    optimizer = getattr(optim, optimizer_name)(model.parameters(), lr=lr)\n",
    "    \n",
    "    train_step = _train_step(model, optimizer, loss_fn)\n",
    "\n",
    "    train_loss = []\n",
    "    eval_loss = []\n",
    "    best_val_loss = 100\n",
    "\n",
    "    for epoch in range(n_epochs):\n",
    "        t_loss = []\n",
    "        for x,y in train_loader:\n",
    "            x = x.to(device)\n",
    "            y = y.to(device)\n",
    "        \n",
    "            loss = train_step(x, y)\n",
    "            t_loss.append(loss)\n",
    "        train_loss.append(np.mean(t_loss))   \n",
    "\n",
    "        with torch.no_grad():\n",
    "            preds = model(val_dataset.x.to(device))\n",
    "            loss = loss_fn(preds, val_dataset.y.long().to(device))\n",
    "            eval_loss.append(loss.cpu())\n",
    "    prd = model(torch.Tensor(X_val).to(device)).argmax(axis=1).cpu().numpy()\n",
    "    accuracy = accuracy_score(prd, y_val)\n",
    "    \n",
    "    return accuracy\n"
   ]
  },
  {
   "cell_type": "code",
   "execution_count": 63,
   "id": "6815c8e9",
   "metadata": {
    "ExecuteTime": {
     "end_time": "2022-06-12T17:01:27.997441Z",
     "start_time": "2022-06-12T16:50:32.475730Z"
    }
   },
   "outputs": [
    {
     "name": "stderr",
     "output_type": "stream",
     "text": [
      "\u001b[32m[I 2022-06-12 19:50:32,478]\u001b[0m A new study created in memory with name: no-name-1b584694-0ce2-404a-aac7-800d1218b0f9\u001b[0m\n",
      "\u001b[32m[I 2022-06-12 19:50:48,853]\u001b[0m Trial 0 finished with value: 0.2896825396825397 and parameters: {'n_layers': 2, 'n_units_l0': 15, 'dropout_l0': 0.4667786700834963, 'n_units_l1': 86, 'dropout_l1': 0.4133662896040269, 'optimizer': 'RMSprop', 'lr': 1.2610398559590214e-05}. Best is trial 0 with value: 0.2896825396825397.\u001b[0m\n",
      "\u001b[32m[I 2022-06-12 19:51:03,556]\u001b[0m Trial 1 finished with value: 0.6190476190476191 and parameters: {'n_layers': 1, 'n_units_l0': 101, 'dropout_l0': 0.4394240361420798, 'optimizer': 'Adam', 'lr': 0.0030484253833114147}. Best is trial 1 with value: 0.6190476190476191.\u001b[0m\n",
      "\u001b[32m[I 2022-06-12 19:51:16,864]\u001b[0m Trial 2 finished with value: 0.5912698412698413 and parameters: {'n_layers': 1, 'n_units_l0': 113, 'dropout_l0': 0.3379057969036778, 'optimizer': 'RMSprop', 'lr': 0.07532101542817812}. Best is trial 1 with value: 0.6190476190476191.\u001b[0m\n",
      "\u001b[32m[I 2022-06-12 19:51:31,144]\u001b[0m Trial 3 finished with value: 0.06349206349206349 and parameters: {'n_layers': 2, 'n_units_l0': 6, 'dropout_l0': 0.2662011634609871, 'n_units_l1': 102, 'dropout_l1': 0.22847201386006308, 'optimizer': 'SGD', 'lr': 3.8295035542331365e-05}. Best is trial 1 with value: 0.6190476190476191.\u001b[0m\n",
      "\u001b[32m[I 2022-06-12 19:51:45,397]\u001b[0m Trial 4 finished with value: 0.5833333333333334 and parameters: {'n_layers': 2, 'n_units_l0': 43, 'dropout_l0': 0.39340596366932323, 'n_units_l1': 100, 'dropout_l1': 0.32301131878274036, 'optimizer': 'SGD', 'lr': 0.012119845357124327}. Best is trial 1 with value: 0.6190476190476191.\u001b[0m\n",
      "\u001b[32m[I 2022-06-12 19:52:05,134]\u001b[0m Trial 5 finished with value: 0.5357142857142857 and parameters: {'n_layers': 3, 'n_units_l0': 13, 'dropout_l0': 0.2031821270775656, 'n_units_l1': 46, 'dropout_l1': 0.4918640269946108, 'n_units_l2': 32, 'dropout_l2': 0.20001684110824347, 'optimizer': 'RMSprop', 'lr': 0.0014876447736581607}. Best is trial 1 with value: 0.6190476190476191.\u001b[0m\n",
      "\u001b[32m[I 2022-06-12 19:52:27,582]\u001b[0m Trial 6 finished with value: 0.49206349206349204 and parameters: {'n_layers': 3, 'n_units_l0': 31, 'dropout_l0': 0.47625846314707754, 'n_units_l1': 17, 'dropout_l1': 0.379914505647573, 'n_units_l2': 62, 'dropout_l2': 0.3270666619782578, 'optimizer': 'Adam', 'lr': 0.00020185286860621322}. Best is trial 1 with value: 0.6190476190476191.\u001b[0m\n",
      "\u001b[32m[I 2022-06-12 19:52:46,488]\u001b[0m Trial 7 finished with value: 0.2777777777777778 and parameters: {'n_layers': 2, 'n_units_l0': 31, 'dropout_l0': 0.27851488930427687, 'n_units_l1': 4, 'dropout_l1': 0.3373626708121539, 'optimizer': 'Adam', 'lr': 0.02457427294852082}. Best is trial 1 with value: 0.6190476190476191.\u001b[0m\n",
      "\u001b[32m[I 2022-06-12 19:53:03,048]\u001b[0m Trial 8 finished with value: 0.05952380952380952 and parameters: {'n_layers': 3, 'n_units_l0': 121, 'dropout_l0': 0.20418658222454883, 'n_units_l1': 84, 'dropout_l1': 0.3829638780662131, 'n_units_l2': 72, 'dropout_l2': 0.48197683443567507, 'optimizer': 'SGD', 'lr': 1.7793836505128987e-05}. Best is trial 1 with value: 0.6190476190476191.\u001b[0m\n",
      "\u001b[32m[I 2022-06-12 19:53:19,805]\u001b[0m Trial 9 finished with value: 0.5912698412698413 and parameters: {'n_layers': 3, 'n_units_l0': 66, 'dropout_l0': 0.4544215673258549, 'n_units_l1': 65, 'dropout_l1': 0.3948122980997946, 'n_units_l2': 50, 'dropout_l2': 0.3233619300755245, 'optimizer': 'SGD', 'lr': 0.018707034287142144}. Best is trial 1 with value: 0.6190476190476191.\u001b[0m\n",
      "\u001b[32m[I 2022-06-12 19:53:34,655]\u001b[0m Trial 10 finished with value: 0.626984126984127 and parameters: {'n_layers': 1, 'n_units_l0': 96, 'dropout_l0': 0.402360389409111, 'optimizer': 'Adam', 'lr': 0.0019125850492427421}. Best is trial 10 with value: 0.626984126984127.\u001b[0m\n",
      "\u001b[32m[I 2022-06-12 19:53:49,303]\u001b[0m Trial 11 finished with value: 0.6507936507936508 and parameters: {'n_layers': 1, 'n_units_l0': 92, 'dropout_l0': 0.39806140582888, 'optimizer': 'Adam', 'lr': 0.0016964186417842452}. Best is trial 11 with value: 0.6507936507936508.\u001b[0m\n",
      "\u001b[32m[I 2022-06-12 19:54:03,994]\u001b[0m Trial 12 finished with value: 0.6031746031746031 and parameters: {'n_layers': 1, 'n_units_l0': 86, 'dropout_l0': 0.3824229322047621, 'optimizer': 'Adam', 'lr': 0.00023417172182686375}. Best is trial 11 with value: 0.6507936507936508.\u001b[0m\n",
      "\u001b[32m[I 2022-06-12 19:54:18,686]\u001b[0m Trial 13 finished with value: 0.6507936507936508 and parameters: {'n_layers': 1, 'n_units_l0': 81, 'dropout_l0': 0.3951626374728384, 'optimizer': 'Adam', 'lr': 0.00041614315702355193}. Best is trial 11 with value: 0.6507936507936508.\u001b[0m\n",
      "\u001b[32m[I 2022-06-12 19:54:33,412]\u001b[0m Trial 14 finished with value: 0.6388888888888888 and parameters: {'n_layers': 1, 'n_units_l0': 71, 'dropout_l0': 0.33371645077791745, 'optimizer': 'Adam', 'lr': 0.0003074961534333867}. Best is trial 11 with value: 0.6507936507936508.\u001b[0m\n",
      "\u001b[32m[I 2022-06-12 19:54:48,089]\u001b[0m Trial 15 finished with value: 0.6190476190476191 and parameters: {'n_layers': 1, 'n_units_l0': 70, 'dropout_l0': 0.4162781181687486, 'optimizer': 'Adam', 'lr': 0.0005442386350400101}. Best is trial 11 with value: 0.6507936507936508.\u001b[0m\n",
      "\u001b[32m[I 2022-06-12 19:55:03,067]\u001b[0m Trial 16 finished with value: 0.6865079365079365 and parameters: {'n_layers': 1, 'n_units_l0': 82, 'dropout_l0': 0.3620320439761883, 'optimizer': 'Adam', 'lr': 7.775391632812434e-05}. Best is trial 16 with value: 0.6865079365079365.\u001b[0m\n",
      "\u001b[32m[I 2022-06-12 19:55:22,083]\u001b[0m Trial 17 finished with value: 0.5952380952380952 and parameters: {'n_layers': 2, 'n_units_l0': 56, 'dropout_l0': 0.3025599834242382, 'n_units_l1': 34, 'dropout_l1': 0.20834408303109214, 'optimizer': 'Adam', 'lr': 6.848304441823873e-05}. Best is trial 16 with value: 0.6865079365079365.\u001b[0m\n",
      "\u001b[32m[I 2022-06-12 19:55:36,793]\u001b[0m Trial 18 finished with value: 0.6626984126984127 and parameters: {'n_layers': 1, 'n_units_l0': 105, 'dropout_l0': 0.37028995692163913, 'optimizer': 'Adam', 'lr': 0.005039677736603239}. Best is trial 16 with value: 0.6865079365079365.\u001b[0m\n",
      "\u001b[32m[I 2022-06-12 19:55:53,974]\u001b[0m Trial 19 finished with value: 0.6507936507936508 and parameters: {'n_layers': 2, 'n_units_l0': 108, 'dropout_l0': 0.3558760186829596, 'n_units_l1': 128, 'dropout_l1': 0.2808036942148634, 'optimizer': 'RMSprop', 'lr': 0.005584768069613218}. Best is trial 16 with value: 0.6865079365079365.\u001b[0m\n",
      "\u001b[32m[I 2022-06-12 19:56:08,767]\u001b[0m Trial 20 finished with value: 0.6507936507936508 and parameters: {'n_layers': 1, 'n_units_l0': 128, 'dropout_l0': 0.36034885305252, 'optimizer': 'Adam', 'lr': 7.808226439092228e-05}. Best is trial 16 with value: 0.6865079365079365.\u001b[0m\n",
      "\u001b[32m[I 2022-06-12 19:56:23,541]\u001b[0m Trial 21 finished with value: 0.6071428571428571 and parameters: {'n_layers': 1, 'n_units_l0': 128, 'dropout_l0': 0.3637384743850163, 'optimizer': 'Adam', 'lr': 6.328681835851815e-05}. Best is trial 16 with value: 0.6865079365079365.\u001b[0m\n",
      "\u001b[32m[I 2022-06-12 19:56:40,261]\u001b[0m Trial 22 finished with value: 0.623015873015873 and parameters: {'n_layers': 2, 'n_units_l0': 108, 'dropout_l0': 0.3126311841758279, 'n_units_l1': 120, 'dropout_l1': 0.27356537590353336, 'optimizer': 'RMSprop', 'lr': 0.0052565459537516224}. Best is trial 16 with value: 0.6865079365079365.\u001b[0m\n",
      "\u001b[32m[I 2022-06-12 19:56:54,705]\u001b[0m Trial 23 finished with value: 0.623015873015873 and parameters: {'n_layers': 1, 'n_units_l0': 90, 'dropout_l0': 0.4367407949234661, 'optimizer': 'Adam', 'lr': 0.0006851625149753214}. Best is trial 16 with value: 0.6865079365079365.\u001b[0m\n",
      "\u001b[32m[I 2022-06-12 19:57:09,078]\u001b[0m Trial 24 finished with value: 0.623015873015873 and parameters: {'n_layers': 1, 'n_units_l0': 79, 'dropout_l0': 0.4186666989406754, 'optimizer': 'Adam', 'lr': 0.005702005341017378}. Best is trial 16 with value: 0.6865079365079365.\u001b[0m\n",
      "\u001b[32m[I 2022-06-12 19:57:23,270]\u001b[0m Trial 25 finished with value: 0.6190476190476191 and parameters: {'n_layers': 1, 'n_units_l0': 119, 'dropout_l0': 0.37114465407330716, 'optimizer': 'Adam', 'lr': 0.0001252011644502854}. Best is trial 16 with value: 0.6865079365079365.\u001b[0m\n",
      "\u001b[32m[I 2022-06-12 19:57:37,442]\u001b[0m Trial 26 finished with value: 0.6626984126984127 and parameters: {'n_layers': 1, 'n_units_l0': 101, 'dropout_l0': 0.3145453717909063, 'optimizer': 'Adam', 'lr': 2.2724579390267298e-05}. Best is trial 16 with value: 0.6865079365079365.\u001b[0m\n"
     ]
    },
    {
     "name": "stderr",
     "output_type": "stream",
     "text": [
      "\u001b[32m[I 2022-06-12 19:57:51,908]\u001b[0m Trial 27 finished with value: 0.6190476190476191 and parameters: {'n_layers': 1, 'n_units_l0': 100, 'dropout_l0': 0.4986680894350941, 'optimizer': 'Adam', 'lr': 3.386632851787891e-05}. Best is trial 16 with value: 0.6865079365079365.\u001b[0m\n",
      "\u001b[32m[I 2022-06-12 19:58:06,113]\u001b[0m Trial 28 finished with value: 0.5992063492063492 and parameters: {'n_layers': 1, 'n_units_l0': 63, 'dropout_l0': 0.31519082524248543, 'optimizer': 'Adam', 'lr': 1.0797176320330598e-05}. Best is trial 16 with value: 0.6865079365079365.\u001b[0m\n",
      "\u001b[32m[I 2022-06-12 19:58:20,467]\u001b[0m Trial 29 finished with value: 0.14682539682539683 and parameters: {'n_layers': 2, 'n_units_l0': 78, 'dropout_l0': 0.25003904480649636, 'n_units_l1': 56, 'dropout_l1': 0.48780455822737545, 'optimizer': 'SGD', 'lr': 2.102669690949191e-05}. Best is trial 16 with value: 0.6865079365079365.\u001b[0m\n",
      "\u001b[32m[I 2022-06-12 19:58:37,416]\u001b[0m Trial 30 finished with value: 0.5912698412698413 and parameters: {'n_layers': 2, 'n_units_l0': 52, 'dropout_l0': 0.2925272681070155, 'n_units_l1': 28, 'dropout_l1': 0.440199276772054, 'optimizer': 'RMSprop', 'lr': 0.00013100693145693068}. Best is trial 16 with value: 0.6865079365079365.\u001b[0m\n",
      "\u001b[32m[I 2022-06-12 19:58:54,131]\u001b[0m Trial 31 finished with value: 0.6111111111111112 and parameters: {'n_layers': 2, 'n_units_l0': 107, 'dropout_l0': 0.3436147452269653, 'n_units_l1': 127, 'dropout_l1': 0.2863033574282241, 'optimizer': 'RMSprop', 'lr': 0.008438107659284039}. Best is trial 16 with value: 0.6865079365079365.\u001b[0m\n",
      "\u001b[32m[I 2022-06-12 19:59:08,516]\u001b[0m Trial 32 finished with value: 0.6309523809523809 and parameters: {'n_layers': 1, 'n_units_l0': 122, 'dropout_l0': 0.3648077490450498, 'optimizer': 'Adam', 'lr': 5.477790014033188e-05}. Best is trial 16 with value: 0.6865079365079365.\u001b[0m\n",
      "\u001b[32m[I 2022-06-12 19:59:30,236]\u001b[0m Trial 33 finished with value: 0.6626984126984127 and parameters: {'n_layers': 1, 'n_units_l0': 113, 'dropout_l0': 0.3280695806657702, 'optimizer': 'Adam', 'lr': 0.00010775013101904846}. Best is trial 16 with value: 0.6865079365079365.\u001b[0m\n",
      "\u001b[32m[I 2022-06-12 19:59:49,855]\u001b[0m Trial 34 finished with value: 0.6309523809523809 and parameters: {'n_layers': 1, 'n_units_l0': 100, 'dropout_l0': 0.328213916296843, 'optimizer': 'Adam', 'lr': 2.4471299875531918e-05}. Best is trial 16 with value: 0.6865079365079365.\u001b[0m\n",
      "\u001b[32m[I 2022-06-12 20:00:10,046]\u001b[0m Trial 35 finished with value: 0.5833333333333334 and parameters: {'n_layers': 1, 'n_units_l0': 114, 'dropout_l0': 0.25221239181000943, 'optimizer': 'Adam', 'lr': 0.05531324070764354}. Best is trial 16 with value: 0.6865079365079365.\u001b[0m\n",
      "\u001b[32m[I 2022-06-12 20:00:30,996]\u001b[0m Trial 36 finished with value: 0.6349206349206349 and parameters: {'n_layers': 1, 'n_units_l0': 87, 'dropout_l0': 0.32403518931863534, 'optimizer': 'Adam', 'lr': 3.8379235083794045e-05}. Best is trial 16 with value: 0.6865079365079365.\u001b[0m\n",
      "\u001b[32m[I 2022-06-12 20:00:46,425]\u001b[0m Trial 37 finished with value: 0.4523809523809524 and parameters: {'n_layers': 1, 'n_units_l0': 106, 'dropout_l0': 0.28905872745025835, 'optimizer': 'SGD', 'lr': 0.00012114697933845614}. Best is trial 16 with value: 0.6865079365079365.\u001b[0m\n",
      "\u001b[32m[I 2022-06-12 20:01:06,642]\u001b[0m Trial 38 finished with value: 0.6468253968253969 and parameters: {'n_layers': 1, 'n_units_l0': 115, 'dropout_l0': 0.343951281059626, 'optimizer': 'Adam', 'lr': 1.5421238937739007e-05}. Best is trial 16 with value: 0.6865079365079365.\u001b[0m\n",
      "\u001b[32m[I 2022-06-12 20:01:27,981]\u001b[0m Trial 39 finished with value: 0.6587301587301587 and parameters: {'n_layers': 1, 'n_units_l0': 95, 'dropout_l0': 0.2711344024187472, 'optimizer': 'Adam', 'lr': 0.0024860766668189063}. Best is trial 16 with value: 0.6865079365079365.\u001b[0m\n"
     ]
    },
    {
     "name": "stdout",
     "output_type": "stream",
     "text": [
      "Study statistics: \n",
      "  Number of finished trials:  40\n",
      "  Number of pruned trials:  0\n",
      "  Number of complete trials:  40\n",
      "Best trial:\n",
      "  Value:  0.6865079365079365\n",
      "  Params: \n",
      "    n_layers: 1\n",
      "    n_units_l0: 82\n",
      "    dropout_l0: 0.3620320439761883\n",
      "    optimizer: Adam\n",
      "    lr: 7.775391632812434e-05\n"
     ]
    }
   ],
   "source": [
    "if __name__ == \"__main__\":\n",
    "    study = optuna.create_study(direction=\"maximize\")\n",
    "    study.optimize(objective, n_trials=40)\n",
    "\n",
    "    pruned_trials = [t for t in study.trials if t.state == optuna.structs.TrialState.PRUNED]\n",
    "    complete_trials = [t for t in study.trials if t.state == optuna.structs.TrialState.COMPLETE]\n",
    "\n",
    "    print(\"Study statistics: \")\n",
    "    print(\"  Number of finished trials: \", len(study.trials))\n",
    "    print(\"  Number of pruned trials: \", len(pruned_trials))\n",
    "    print(\"  Number of complete trials: \", len(complete_trials))\n",
    "\n",
    "    print(\"Best trial:\")\n",
    "    trial = study.best_trial\n",
    "\n",
    "    print(\"  Value: \", trial.value)\n",
    "\n",
    "    print(\"  Params: \")\n",
    "    for key, value in trial.params.items():\n",
    "        print(\"    {}: {}\".format(key, value))"
   ]
  },
  {
   "cell_type": "markdown",
   "id": "4876a349",
   "metadata": {},
   "source": [
    "### Final Predictions"
   ]
  },
  {
   "cell_type": "code",
   "execution_count": 77,
   "id": "e3cef6c9",
   "metadata": {
    "ExecuteTime": {
     "end_time": "2022-06-12T17:27:26.584584Z",
     "start_time": "2022-06-12T17:27:26.579350Z"
    }
   },
   "outputs": [],
   "source": [
    "# Read training data\n",
    "train_domains = list()\n",
    "y_train = list()\n",
    "with open(\"train.txt\", \"r\") as f:\n",
    "    for line in f:\n",
    "        l = line.split(\",\")\n",
    "        train_domains.append(l[0])\n",
    "        y_train.append(l[1][:-1])\n",
    "y_train = np.array(list(map(int, y_train)))\n",
    "\n",
    "#LOAD DATA\n",
    "with open('X_train_text_d2v', 'rb') as handle:\n",
    "    X_train_text = pickle.load(handle)\n",
    "with open('X_train_graph_n2v', 'rb') as handle:\n",
    "    X_train_graph = pickle.load(handle)\n",
    "    \n",
    "    \n",
    "with open('X_test_text_d2v', 'rb') as handle:\n",
    "    X_test_text = pickle.load(handle)\n",
    "with open('X_test_graph_n2v', 'rb') as handle:\n",
    "    X_test_graph = pickle.load(handle)"
   ]
  },
  {
   "cell_type": "code",
   "execution_count": 78,
   "id": "a33c465e",
   "metadata": {
    "ExecuteTime": {
     "end_time": "2022-06-12T17:27:27.665067Z",
     "start_time": "2022-06-12T17:27:27.660774Z"
    }
   },
   "outputs": [],
   "source": [
    "#Standardization\n",
    "scaler = StandardScaler()\n",
    "X_train_text = scaler.fit_transform(X_train_text)\n",
    "X_train_graph = scaler.fit_transform(X_train_graph)\n",
    "X_test_text = scaler.transform(X_test_text)\n",
    "X_test_graph = scaler.transform(X_test_graph)\n",
    "\n",
    "#Combine data\n",
    "X_train = np.hstack((X_train_text, X_train_graph))\n",
    "X_test = np.hstack((X_test_text, X_test_graph))"
   ]
  },
  {
   "cell_type": "code",
   "execution_count": 79,
   "id": "0f2a881c",
   "metadata": {
    "ExecuteTime": {
     "end_time": "2022-06-12T17:27:32.918481Z",
     "start_time": "2022-06-12T17:27:32.905581Z"
    }
   },
   "outputs": [
    {
     "name": "stdout",
     "output_type": "stream",
     "text": [
      "(3440, 64) (3440,)\n"
     ]
    }
   ],
   "source": [
    "#data augmetnation\n",
    "over = SMOTE(random_state=123)\n",
    "X_train_new, y_train_new = over.fit_resample(X_train, y_train)\n",
    "print(X_train_new.shape, y_train_new.shape)"
   ]
  },
  {
   "cell_type": "code",
   "execution_count": 80,
   "id": "6d867b29",
   "metadata": {
    "ExecuteTime": {
     "end_time": "2022-06-12T17:27:33.916649Z",
     "start_time": "2022-06-12T17:27:33.913509Z"
    }
   },
   "outputs": [],
   "source": [
    "train_dataset = CustomDataset(torch.Tensor(X_train_new).float(), torch.Tensor(y_train_new).float())\n",
    "train_loader = DataLoader(dataset=train_dataset, batch_size=batch_size, shuffle=True)\n",
    "\n",
    "tensor_x = torch.FloatTensor(X_test)\n",
    "test_dataset = utils.TensorDataset(tensor_x)\n",
    "test_loader = utils.DataLoader(test_dataset, batch_size=batch_size)"
   ]
  },
  {
   "cell_type": "code",
   "execution_count": 83,
   "id": "fab75081",
   "metadata": {
    "ExecuteTime": {
     "end_time": "2022-06-12T17:30:54.557980Z",
     "start_time": "2022-06-12T17:30:54.554804Z"
    }
   },
   "outputs": [
    {
     "data": {
      "text/plain": [
       "{'n_layers': 1,\n",
       " 'n_units_l0': 82,\n",
       " 'dropout_l0': 0.3620320439761883,\n",
       " 'optimizer': 'Adam',\n",
       " 'lr': 7.775391632812434e-05}"
      ]
     },
     "execution_count": 83,
     "metadata": {},
     "output_type": "execute_result"
    }
   ],
   "source": [
    "#New hyperparameters\n",
    "hidden_dim = 82\n",
    "dropout = 0.3620320439761883\n",
    "lr = 7.775391632812434e-05\n",
    "n_epochs = 80\n",
    "study.best_params"
   ]
  },
  {
   "cell_type": "code",
   "execution_count": 86,
   "id": "b0eba285",
   "metadata": {
    "ExecuteTime": {
     "end_time": "2022-06-12T17:31:16.154153Z",
     "start_time": "2022-06-12T17:31:16.139221Z"
    }
   },
   "outputs": [],
   "source": [
    "model = kmodel(input_dim=input_dim, hidden_dim=hidden_dim, dropout = dropout, n_classes=n_classes)\n",
    "loss_fn = nn.CrossEntropyLoss(weight=class_weights.to(device))\n",
    "optimizer = optim.Adam(params=model.parameters(), lr=lr)"
   ]
  },
  {
   "cell_type": "code",
   "execution_count": 87,
   "id": "e993fbc9",
   "metadata": {
    "ExecuteTime": {
     "end_time": "2022-06-12T17:31:24.992110Z",
     "start_time": "2022-06-12T17:31:17.803193Z"
    }
   },
   "outputs": [
    {
     "name": "stdout",
     "output_type": "stream",
     "text": [
      "Epoch: 0, Train Loss: 2.301460564136505\n",
      "Epoch: 20, Train Loss: 0.9186293223389873\n",
      "Epoch: 40, Train Loss: 0.6357779099985406\n",
      "Epoch: 60, Train Loss: 0.5429420333217692\n"
     ]
    }
   ],
   "source": [
    "#device='cpu'\n",
    "model = model.to(device)\n",
    "train_step = _train_step(model, optimizer, loss_fn)\n",
    "#eval_step = _eval_step(model, loss_fn)\n",
    "train_loss = []\n",
    "eval_loss = []\n",
    "for epoch in range(n_epochs):\n",
    "    t_loss = []\n",
    "    for x,y in train_loader:\n",
    "        x = x.to(device)\n",
    "        y = y.to(device)\n",
    "        \n",
    "        loss = train_step(x, y)\n",
    "        t_loss.append(loss)\n",
    "    train_loss.append(np.mean(t_loss))   \n",
    "    \n",
    "    if epoch%20 == 0:\n",
    "        print(f'Epoch: {epoch}, Train Loss: {train_loss[-1]}')"
   ]
  },
  {
   "cell_type": "code",
   "execution_count": 89,
   "id": "4132da10",
   "metadata": {
    "ExecuteTime": {
     "end_time": "2022-06-12T17:31:52.604073Z",
     "start_time": "2022-06-12T17:31:52.587401Z"
    }
   },
   "outputs": [],
   "source": [
    "# Make predictions\n",
    "model.eval()\n",
    "y_pred = list()\n",
    "for x in test_loader:\n",
    "    x = x[0].to(device)\n",
    "    output = model(x)\n",
    "    y_pred.append(torch.exp(output))\n",
    "y_pred = torch.cat(y_pred, dim=0).detach().cpu().numpy()"
   ]
  },
  {
   "cell_type": "code",
   "execution_count": 90,
   "id": "095c9ae8",
   "metadata": {
    "ExecuteTime": {
     "end_time": "2022-06-12T17:31:53.750060Z",
     "start_time": "2022-06-12T17:31:53.746407Z"
    }
   },
   "outputs": [
    {
     "data": {
      "text/plain": [
       "(array([6, 0, 1, 0, 6, 2, 0, 0, 3, 1, 1, 3, 0, 0, 2, 0, 2, 0, 4, 0, 4, 0,\n",
       "        9, 0, 4, 0, 1, 1, 6, 0, 1, 0, 0, 0, 3, 6, 3, 3, 0, 2, 0, 6, 0, 0,\n",
       "        5, 0, 2, 1, 0, 0, 3, 0, 1, 5, 0, 3, 3, 1, 0, 2, 1, 0, 4, 2, 0, 9,\n",
       "        2, 9, 0, 4, 3, 0, 1, 4, 3, 1, 4, 2, 3, 7, 2, 0, 2, 4, 9, 0, 0, 0,\n",
       "        6, 0, 5, 0, 0, 5, 0, 0, 4, 4, 0, 3, 2, 3, 4, 3, 3, 2, 3, 5, 5, 5,\n",
       "        7, 4, 2, 3, 0, 0, 0, 0, 0, 2, 3, 0, 0, 0, 0, 1, 3, 9, 2, 0, 2, 0,\n",
       "        0, 2, 2, 3, 2, 1, 1, 1, 0, 6, 6, 0, 4, 2, 3, 3, 1, 1, 1, 1, 0, 3,\n",
       "        3, 5, 0, 0, 3, 4, 2, 0, 6, 3, 3, 3, 0, 2, 1, 3, 0, 2, 3, 0, 0, 5,\n",
       "        0, 0, 0, 3, 0, 3, 0, 9, 7, 0, 3, 0, 0, 5, 3, 6, 2, 1, 2, 0, 4, 0,\n",
       "        2, 2, 6, 6, 4, 0, 3, 0, 3, 2, 0, 0, 0, 2, 0, 2, 2, 4, 3, 0, 3, 0,\n",
       "        3, 0, 3, 0, 2, 0, 0, 3, 0, 1, 6, 0, 0, 0, 2, 0, 0, 7, 0, 2, 3, 0,\n",
       "        1, 1, 0, 0, 3, 3, 2, 0, 0, 0, 2, 0, 6, 0, 4, 2, 2, 3, 0, 0, 2, 3,\n",
       "        6, 3, 1, 5, 3, 2, 2, 5, 2, 0, 1, 0, 0, 1, 1, 5, 1, 3, 0, 0, 6, 6,\n",
       "        1, 3, 2, 0, 2, 0, 4, 0, 6, 0, 3, 0, 0, 4, 0, 3, 3, 9, 3, 0, 5, 0,\n",
       "        0, 0, 0, 3, 0, 0, 1, 5, 0, 1, 1, 0, 5, 1, 0, 0, 3, 6, 3, 2, 3, 0,\n",
       "        0, 0, 0, 0, 4, 0, 3, 2, 0, 0, 0, 1, 2, 9, 0, 0, 3, 2, 3, 5, 3, 0,\n",
       "        4, 2, 0, 1, 5, 0, 1, 3, 3, 0, 6, 0, 2, 6, 0, 0, 6, 0, 1, 2, 2, 7,\n",
       "        3, 0, 4, 2, 3, 3, 0, 0, 9, 0, 2, 0, 6, 0, 0, 2, 1, 0, 3, 1, 0, 5,\n",
       "        0, 2, 0, 4, 2, 6, 3, 2, 0, 6, 3, 1, 2, 4, 1, 0, 6, 0, 2, 3, 5, 3,\n",
       "        1, 2, 0, 3, 7, 0, 5, 0, 1, 0, 2, 1, 0, 0, 5, 2, 1, 0, 0, 0, 3, 2,\n",
       "        0, 5, 6, 0, 0, 0, 0, 0, 0, 1, 0, 0, 1, 3, 4, 9, 2, 2, 0, 1, 3, 6,\n",
       "        0, 6, 1, 3, 0, 2, 0, 5, 2, 0, 3, 1, 3, 2, 5, 4, 3, 6, 1, 6, 5, 3,\n",
       "        9, 0, 0, 2, 0, 3, 1, 0, 6, 0, 6, 0, 3, 3, 2, 6, 6, 3, 3, 0, 0, 0,\n",
       "        2, 0, 2, 3, 2, 0, 0, 2, 0, 3, 2, 0, 6, 5, 0, 0, 0, 3, 3, 0, 0, 5,\n",
       "        1, 3, 1, 0, 3, 0, 2, 2, 9, 0, 9, 5, 1, 4, 5, 0, 0, 0, 1]),\n",
       " (547, 10))"
      ]
     },
     "execution_count": 90,
     "metadata": {},
     "output_type": "execute_result"
    }
   ],
   "source": [
    "y_pred.argmax(1), y_pred.shape"
   ]
  },
  {
   "cell_type": "code",
   "execution_count": 91,
   "id": "a127334b",
   "metadata": {
    "ExecuteTime": {
     "end_time": "2022-06-12T17:31:57.253459Z",
     "start_time": "2022-06-12T17:31:57.243691Z"
    }
   },
   "outputs": [],
   "source": [
    "# Write predictions to a file\n",
    "with open('sample_submission.csv', 'w') as csvfile:\n",
    "    writer = csv.writer(csvfile, delimiter=',')\n",
    "    lst = list()\n",
    "    for i in range(10):\n",
    "        lst.append('class_'+str(i))\n",
    "    lst.insert(0, \"domain_name\")\n",
    "    writer.writerow(lst)\n",
    "    for i,test_host in enumerate(test_domains):\n",
    "        lst = y_pred[i,:].tolist()\n",
    "        lst.insert(0, test_host)\n",
    "        writer.writerow(lst)"
   ]
  }
 ],
 "metadata": {
  "kernelspec": {
   "display_name": "causal",
   "language": "python",
   "name": "causal"
  },
  "language_info": {
   "codemirror_mode": {
    "name": "ipython",
    "version": 3
   },
   "file_extension": ".py",
   "mimetype": "text/x-python",
   "name": "python",
   "nbconvert_exporter": "python",
   "pygments_lexer": "ipython3",
   "version": "3.8.12"
  }
 },
 "nbformat": 4,
 "nbformat_minor": 5
}
