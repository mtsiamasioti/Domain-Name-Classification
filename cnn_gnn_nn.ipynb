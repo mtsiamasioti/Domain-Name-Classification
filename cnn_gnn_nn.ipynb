{
 "cells": [
  {
   "cell_type": "code",
   "execution_count": 1,
   "id": "68ca3c73",
   "metadata": {
    "ExecuteTime": {
     "end_time": "2022-06-12T18:53:37.376528Z",
     "start_time": "2022-06-12T18:53:37.369816Z"
    }
   },
   "outputs": [
    {
     "data": {
      "text/html": [
       "<style>.container { width:90% !important; }</style>"
      ],
      "text/plain": [
       "<IPython.core.display.HTML object>"
      ]
     },
     "metadata": {},
     "output_type": "display_data"
    }
   ],
   "source": [
    "from IPython.display import display, HTML\n",
    "display(HTML(\"<style>.container { width:90% !important; }</style>\"))"
   ]
  },
  {
   "cell_type": "code",
   "execution_count": 2,
   "id": "ef6e9b2d",
   "metadata": {
    "ExecuteTime": {
     "end_time": "2022-06-12T18:53:40.885925Z",
     "start_time": "2022-06-12T18:53:37.377730Z"
    }
   },
   "outputs": [],
   "source": [
    "# IMPORTS\n",
    "import csv\n",
    "import re\n",
    "import zipfile\n",
    "import pickle\n",
    "import os\n",
    "from io import BytesIO\n",
    "import networkx as nx\n",
    "import numpy as np\n",
    "import pandas as pd\n",
    "import matplotlib.pyplot as plt\n",
    "import seaborn as sns\n",
    "import scipy.sparse as sp\n",
    "plt.style.use('ggplot')\n",
    "\n",
    "import spacy\n",
    "#python -m spacy download el_core_news_sm -- rin in cmd\n",
    "nlp = spacy.load(\"el_core_news_sm\")\n",
    "nlp.max_length = 3000000\n",
    "\n",
    "import nltk\n",
    "#nltk.download(\"punkt\")\n",
    "import string\n",
    "from nltk import WhitespaceTokenizer\n",
    "\n",
    "from gensim.models import KeyedVectors, Word2Vec\n",
    "from gensim.models.doc2vec import Doc2Vec, TaggedDocument\n",
    "\n",
    "from sklearn.feature_extraction.text import TfidfVectorizer\n",
    "from sklearn.decomposition import TruncatedSVD, PCA\n",
    "from sklearn.manifold import TSNE\n",
    "from sklearn.preprocessing import StandardScaler\n",
    "from sklearn.linear_model import LogisticRegression\n",
    "from sklearn.naive_bayes import GaussianNB\n",
    "from sklearn.ensemble import RandomForestClassifier\n",
    "from sklearn.model_selection import train_test_split\n",
    "from sklearn.model_selection import GridSearchCV\n",
    "from sklearn.metrics import accuracy_score"
   ]
  },
  {
   "cell_type": "code",
   "execution_count": 3,
   "id": "50661ea5",
   "metadata": {
    "ExecuteTime": {
     "end_time": "2022-06-12T18:53:40.892879Z",
     "start_time": "2022-06-12T18:53:40.887521Z"
    }
   },
   "outputs": [],
   "source": [
    "import torch\n",
    "import torch.nn as nn\n",
    "import torch.nn.functional as F\n",
    "import torch.utils.data as utils\n",
    "import torch.optim as optim\n",
    "from torch.utils.data.sampler import WeightedRandomSampler\n",
    "from torch.utils.data import Dataset, DataLoader\n",
    "\n",
    "import pickle"
   ]
  },
  {
   "cell_type": "code",
   "execution_count": 4,
   "id": "7387b253",
   "metadata": {
    "ExecuteTime": {
     "end_time": "2022-06-12T18:53:40.904258Z",
     "start_time": "2022-06-12T18:53:40.893929Z"
    }
   },
   "outputs": [
    {
     "name": "stdout",
     "output_type": "stream",
     "text": [
      "Device is cuda. Device type: NVIDIA GeForce RTX 3060.\n"
     ]
    }
   ],
   "source": [
    "device = 'cuda' if torch.cuda.is_available() else 'cpu'\n",
    "#device = 'cpu'\n",
    "gpu = f\" Device type: {torch.cuda.get_device_name()}.\" if device=='cuda' else \"\"\n",
    "print(f\"Device is {device}.\"+gpu )"
   ]
  },
  {
   "cell_type": "code",
   "execution_count": 5,
   "id": "a29b0834",
   "metadata": {
    "ExecuteTime": {
     "end_time": "2022-06-12T18:53:40.908263Z",
     "start_time": "2022-06-12T18:53:40.905646Z"
    }
   },
   "outputs": [],
   "source": [
    "#Creating dictionaries to use in the confusion matrix\n",
    "\n",
    "#Defining dictionary for 10 types of clases\n",
    "classes = {0:'0', 1:'1', 2:'2', 3:'3', 4:'4',\n",
    "               5:'5', 6:'6', 7:'7', 8:'8', 9:'9'}\n",
    "\n",
    "#Defining dictionary that holds two types of model\n",
    "models = {0: \"Naive Bayes\",1: \"Random Forest\",2: \"LightGBM\",3: \"Logistic Regression\",4: \"MLP\",5 : \"CNN\"}"
   ]
  },
  {
   "cell_type": "code",
   "execution_count": 6,
   "id": "8935d103",
   "metadata": {
    "ExecuteTime": {
     "end_time": "2022-06-12T18:53:40.913149Z",
     "start_time": "2022-06-12T18:53:40.909223Z"
    }
   },
   "outputs": [],
   "source": [
    "#Building function to plot the confusion matrix as a heatmap\n",
    "def conf_matr(y_t,y_pred,class_index,classes_dict=classes,model_dict=models):\n",
    "    #Confusion matrix\n",
    "    conf_m = confusion_matrix(y_t,y_pred)\n",
    "\n",
    "    #Building data frame to \n",
    "    df_cm = pd.DataFrame(conf_m, index = [i for i in classes_dict.values()],\n",
    "                  columns = [i for i in classes_dict.values()])\n",
    "    fig,ax = plt.subplots(figsize=(10,10))\n",
    "    sns.heatmap(df_cm, annot=True, cmap='Greens',fmt='.3g',cbar=False)\n",
    "    \n",
    "    ax.set_xlabel('Predicted classes', fontsize=14, weight='bold')\n",
    "    ax.set_ylabel('True classes', fontsize=14, weight='bold')\n",
    "    ax.set_title(f'Confusion matrix of {model_dict[class_index]} classifier', fontsize=17, weight='bold')\n",
    "\n",
    "    plt.show()"
   ]
  },
  {
   "cell_type": "code",
   "execution_count": 7,
   "id": "ed993b0c",
   "metadata": {
    "ExecuteTime": {
     "end_time": "2022-06-12T18:53:40.918737Z",
     "start_time": "2022-06-12T18:53:40.914077Z"
    }
   },
   "outputs": [],
   "source": [
    "# Read training data\n",
    "train_domains = list()\n",
    "y_train = list()\n",
    "with open(\"train.txt\", \"r\") as f:\n",
    "    for line in f:\n",
    "        l = line.split(\",\")\n",
    "        train_domains.append(l[0])\n",
    "        y_train.append(l[1][:-1])\n",
    "y_train = np.array(list(map(int, y_train)))\n",
    "\n",
    "# Read test data\n",
    "test_domains = list()\n",
    "with open(\"test.txt\", \"r\") as f:\n",
    "    for line in f:\n",
    "        l = line.split(\",\")\n",
    "        test_domains.append(l[0])"
   ]
  },
  {
   "cell_type": "code",
   "execution_count": 8,
   "id": "c9eb5891",
   "metadata": {
    "ExecuteTime": {
     "end_time": "2022-06-12T18:53:40.926324Z",
     "start_time": "2022-06-12T18:53:40.919688Z"
    }
   },
   "outputs": [],
   "source": [
    "#LOAD DATA\n",
    "with open('X_train_text', 'rb') as handle:\n",
    "    X_train_text = pickle.load(handle)\n",
    "with open('X_train_graph_n2v', 'rb') as handle:\n",
    "    X_train_graph = pickle.load(handle)    \n",
    "    \n",
    "with open('X_test_text', 'rb') as handle:\n",
    "    X_test_text = pickle.load(handle)\n",
    "with open('X_test_graph_n2v', 'rb') as handle:\n",
    "    X_test_graph = pickle.load(handle)\n",
    "    \n",
    "#X_train = np.hstack((X_train_text, X_train_graph))"
   ]
  },
  {
   "cell_type": "code",
   "execution_count": 9,
   "id": "4cd31191",
   "metadata": {
    "ExecuteTime": {
     "end_time": "2022-06-12T18:53:41.051286Z",
     "start_time": "2022-06-12T18:53:40.927404Z"
    }
   },
   "outputs": [
    {
     "data": {
      "image/png": "[encoded data removed]",
      "text/plain": [
       "<Figure size 432x288 with 1 Axes>"
      ]
     },
     "metadata": {
      "needs_background": "light"
     },
     "output_type": "display_data"
    }
   ],
   "source": [
    "pd.DataFrame(y_train).value_counts().plot.bar(); #imbalanced dataset"
   ]
  },
  {
   "cell_type": "markdown",
   "id": "332ef7ba",
   "metadata": {},
   "source": [
    "### Train - We work only with train data"
   ]
  },
  {
   "cell_type": "code",
   "execution_count": 10,
   "id": "917d38b9",
   "metadata": {
    "ExecuteTime": {
     "end_time": "2022-06-12T18:53:41.059719Z",
     "start_time": "2022-06-12T18:53:41.052401Z"
    }
   },
   "outputs": [],
   "source": [
    "#Step 1: Train and test seperately\n",
    "X_train_text, X_val_text, y_train_text, y_val_text = train_test_split(\n",
    "    X_train_text, y_train, test_size=0.2, random_state=123, stratify=y_train)\n",
    "X_train_graph, X_val_graph, y_train_graph, y_val_graph = train_test_split(\n",
    "    X_train_graph, y_train, test_size=0.2, random_state=123, stratify=y_train)"
   ]
  },
  {
   "cell_type": "code",
   "execution_count": 11,
   "id": "024add30",
   "metadata": {
    "ExecuteTime": {
     "end_time": "2022-06-12T18:53:41.064712Z",
     "start_time": "2022-06-12T18:53:41.061684Z"
    }
   },
   "outputs": [],
   "source": [
    "#Step 2: Scaling the Data, only for graph (text data are encoded)\n",
    "\n",
    "scaler = StandardScaler()\n",
    "#X_train_text = scaler.fit_transform(X_train_text)\n",
    "X_train_graph = scaler.fit_transform(X_train_graph)\n",
    "#X_test_text = scaler.transform(X_test_text)\n",
    "X_val_graph = scaler.transform(X_val_graph)\n",
    "X_test_graph = scaler.transform(X_test_graph)"
   ]
  },
  {
   "cell_type": "code",
   "execution_count": 12,
   "id": "a77bfb2f",
   "metadata": {
    "ExecuteTime": {
     "end_time": "2022-06-12T18:53:41.067770Z",
     "start_time": "2022-06-12T18:53:41.065651Z"
    }
   },
   "outputs": [],
   "source": [
    "X_train_text_new = X_train_text\n",
    "y_train_text_new = y_train_text\n",
    "X_train_graph_new = X_train_graph\n",
    "y_train_graph_new = y_train_graph"
   ]
  },
  {
   "cell_type": "code",
   "execution_count": 13,
   "id": "1309ba79",
   "metadata": {
    "ExecuteTime": {
     "end_time": "2022-06-12T18:53:41.071973Z",
     "start_time": "2022-06-12T18:53:41.068695Z"
    }
   },
   "outputs": [],
   "source": [
    "def load_embeddings(fname, vocab):\n",
    "    '''Loads embeddings from pretrained model'''\n",
    "    embeddings = np.zeros((len(vocab)+1, 300))\n",
    "    \n",
    "    model = KeyedVectors.load_word2vec_format(fname, binary=False)\n",
    "    for word in vocab:\n",
    "        if word in model:\n",
    "            embeddings[vocab[word]] = model[word]\n",
    "        else:\n",
    "            embeddings[vocab[word]] = np.random.uniform(-0.25, 0.25, 300)\n",
    "\n",
    "    return embeddings"
   ]
  },
  {
   "cell_type": "code",
   "execution_count": 14,
   "id": "93c54c4f",
   "metadata": {
    "ExecuteTime": {
     "end_time": "2022-06-12T18:53:41.224105Z",
     "start_time": "2022-06-12T18:53:41.072923Z"
    }
   },
   "outputs": [],
   "source": [
    "# Create embedding matrix\n",
    "path_to_embeddings = 'grcorpus_def.vec.gz'\n",
    "if os.path.exists('./EMBEDDINGS.pkl'):\n",
    "    with open('./EMBEDDINGS.pkl', 'rb') as h:\n",
    "        embeddings = pickle.load(h)\n",
    "else:\n",
    "    embeddings = load_embeddings(path_to_embeddings, vocab)\n",
    "    with open('./EMBEDDINGS.pkl', 'wb') as h:\n",
    "        embeddings = pickle.dump(embeddings, h)"
   ]
  },
  {
   "cell_type": "code",
   "execution_count": 15,
   "id": "48230868",
   "metadata": {
    "ExecuteTime": {
     "end_time": "2022-06-12T18:53:41.227781Z",
     "start_time": "2022-06-12T18:53:41.225272Z"
    }
   },
   "outputs": [],
   "source": [
    "#Hyperparameters\n",
    "batch_size = 12\n",
    "hidden_dim = 64\n",
    "n_classes = 10\n",
    "n_epochs = 200\n",
    "input_dim = X_train_graph_new.shape[1]\n",
    "dropout = 0.5\n",
    "\n",
    "kernel_sizes = [3,4]\n",
    "n_filters = 40\n",
    "static = True"
   ]
  },
  {
   "cell_type": "code",
   "execution_count": 16,
   "id": "913b5d10",
   "metadata": {
    "ExecuteTime": {
     "end_time": "2022-06-12T18:53:41.262734Z",
     "start_time": "2022-06-12T18:53:41.228970Z"
    }
   },
   "outputs": [],
   "source": [
    "list_of_parts_and_labels = []\n",
    "for data,label in zip(zip(X_train_text_new, X_train_graph_new), y_train_text_new):\n",
    "    parts = [torch.LongTensor(data[0]), torch.FloatTensor(data[1])]\n",
    "    list_of_parts_and_labels.append([*parts, torch.tensor(label)])\n",
    "    \n",
    "train_loader = torch.utils.data.DataLoader(list_of_parts_and_labels,\n",
    "               shuffle = True, batch_size = batch_size)\n",
    "\n",
    "list_of_parts_and_labels_val = []\n",
    "for data,labels in zip(zip(X_val_text, X_val_graph), y_val_text):\n",
    "    parts = [torch.LongTensor(data[0]), torch.FloatTensor(data[1])]\n",
    "    list_of_parts_and_labels_val.append([*parts, torch.tensor(label)])\n",
    "    \n",
    "val_loader = torch.utils.data.DataLoader(list_of_parts_and_labels_val,\n",
    "            shuffle = True, batch_size = batch_size)\n"
   ]
  },
  {
   "cell_type": "code",
   "execution_count": 17,
   "id": "c0e1546e",
   "metadata": {
    "ExecuteTime": {
     "end_time": "2022-06-12T18:53:41.271891Z",
     "start_time": "2022-06-12T18:53:41.263881Z"
    },
    "cell_style": "center"
   },
   "outputs": [],
   "source": [
    "class kmodel(nn.Module):\n",
    "    def __init__(self, input_dim, hidden_dim, n_classes, n_filters, kernel_sizes, dropout, embeddings, static):\n",
    "        super(kmodel, self).__init__()\n",
    "        \n",
    "        #CNN PART\n",
    "        self.embedding = nn.Embedding(embeddings.shape[0], embeddings.shape[1])\n",
    "        self.embedding.weight.data.copy_(torch.from_numpy(embeddings))\n",
    "        if static:\n",
    "            self.embedding.weight.requires_grad = False\n",
    "        self.convs = nn.ModuleList([nn.Conv2d(1, n_filters, (K, embeddings.shape[1])) for K in kernel_sizes])\n",
    "        self.fc1 = nn.Linear(len(kernel_sizes) * n_filters, n_classes)\n",
    "        \n",
    "        #GNN PART\n",
    "        self.fc2 = nn.Linear(input_dim, hidden_dim)\n",
    "        self.fc3 = nn.Linear(hidden_dim, hidden_dim)\n",
    "        self.fc4 = nn.Linear(hidden_dim, n_classes)\n",
    "\n",
    "        self.dropout = nn.Dropout(dropout)\n",
    "        self.relu = nn.ReLU()\n",
    "        \n",
    "        self.comb = nn.Linear(20,10)\n",
    "\n",
    "    \n",
    "    def forward(self, text_input, graph_input):\n",
    "        t = self.text_layers(text_input)\n",
    "        g = self.graph_layers(graph_input)\n",
    "        #print(t.shape, g.shape)\n",
    "        combined = torch.cat((t, g), dim=1)\n",
    "\n",
    "        z = self.comb(combined)\n",
    "        z = self.relu(z)\n",
    "        \n",
    "        #return z\n",
    "        return F.log_softmax(z, dim=1) #z\n",
    "    \n",
    "    def text_layers(self,x):\n",
    "        '''Implement the CNN'''\n",
    "        x = self.embedding(x)\n",
    "        x = x.unsqueeze(1)\n",
    "        lst = list()\n",
    "        for i in range(len(self.convs)):\n",
    "            t = self.relu(self.convs[i](x))\n",
    "            t = t.squeeze()\n",
    "            # t.size(2)\n",
    "            t = F.max_pool1d(t, t.size(2)).squeeze()\n",
    "            lst.append(t)\n",
    "\n",
    "        x = torch.cat(lst, dim=1)\n",
    "        x = self.dropout(x)\n",
    "        x = self.fc1(x)\n",
    "        return x\n",
    "    \n",
    "    def graph_layers(self,y):\n",
    "        '''Implement the GNN'''\n",
    "        y = self.fc2(y)\n",
    "        h1 = self.relu(y)\n",
    "        h1 = self.dropout(h1)\n",
    "\n",
    "        #h2 = self.fc3(h1)\n",
    "        #h2  = self.relu(h2)\n",
    "        #h2 = self.dropout(h2)\n",
    "        y = self.fc4(h1)\n",
    "        return y    "
   ]
  },
  {
   "cell_type": "code",
   "execution_count": 18,
   "id": "06cd0927",
   "metadata": {
    "ExecuteTime": {
     "end_time": "2022-06-12T18:53:41.276504Z",
     "start_time": "2022-06-12T18:53:41.272930Z"
    }
   },
   "outputs": [],
   "source": [
    "def _train_step(model, optimizer, loss_fn):\n",
    "    \n",
    "    def step(x1,x2, y):\n",
    "        model.train()\n",
    "        output = model(x1,x2)\n",
    "        loss = loss_fn(output, y.long())\n",
    "        loss.backward()\n",
    "        optimizer.step()\n",
    "        optimizer.zero_grad()\n",
    "        return loss.item()\n",
    "    \n",
    "    return step      \n",
    "\n",
    "def _eval_step(model, loss_fn):\n",
    "    \n",
    "    def step(x1,x2, y):\n",
    "        model.eval()\n",
    "        pred = model(x1,x2)\n",
    "        loss = loss_fn(pred, y.long())\n",
    "        return loss.item()\n",
    "    \n",
    "    return step  "
   ]
  },
  {
   "cell_type": "code",
   "execution_count": 19,
   "id": "462fe631",
   "metadata": {
    "ExecuteTime": {
     "end_time": "2022-06-12T18:53:41.280801Z",
     "start_time": "2022-06-12T18:53:41.277649Z"
    }
   },
   "outputs": [
    {
     "name": "stderr",
     "output_type": "stream",
     "text": [
      "/opt/venv/causal/lib/python3.8/site-packages/sklearn/utils/validation.py:70: FutureWarning: Pass classes=[0 1 2 3 4 5 6 7 8 9], y=[0 3 2 ... 5 3 2] as keyword args. From version 1.0 (renaming of 0.25) passing these as positional arguments will result in an error\n",
      "  warnings.warn(f\"Pass {args_msg} as keyword args. From version \"\n"
     ]
    }
   ],
   "source": [
    "from sklearn.utils import class_weight\n",
    "class_weights=class_weight.compute_class_weight('balanced',np.unique(y_train_text_new),y_train_text_new)\n",
    "class_weights=torch.tensor(class_weights,dtype=torch.float)"
   ]
  },
  {
   "cell_type": "code",
   "execution_count": 20,
   "id": "59c5323d",
   "metadata": {
    "ExecuteTime": {
     "end_time": "2022-06-12T18:53:44.486459Z",
     "start_time": "2022-06-12T18:53:41.281838Z"
    }
   },
   "outputs": [],
   "source": [
    "model = kmodel(input_dim, hidden_dim, n_classes, n_filters, kernel_sizes, dropout, embeddings, static)\n",
    "loss_fn = nn.CrossEntropyLoss(weight=class_weights.to(device))\n",
    "optimizer = optim.Adam(params=model.parameters(), lr=0.0001)"
   ]
  },
  {
   "cell_type": "code",
   "execution_count": 21,
   "id": "bf54bc19",
   "metadata": {
    "ExecuteTime": {
     "end_time": "2022-06-12T18:55:10.629791Z",
     "start_time": "2022-06-12T18:53:44.487610Z"
    },
    "cell_style": "center"
   },
   "outputs": [
    {
     "name": "stdout",
     "output_type": "stream",
     "text": [
      "Epoch:   0, Train Loss: 2.3086, Validation Loss: 2.3464\n",
      "Epoch:  20, Train Loss: 1.9222, Validation Loss: 2.3120\n",
      "Epoch:  40, Train Loss: 1.4126, Validation Loss: 2.3298\n",
      "Epoch:  60, Train Loss: 1.0663, Validation Loss: 2.4891\n",
      "Epoch:  80, Train Loss: 0.8635, Validation Loss: 2.5440\n",
      "Epoch: 100, Train Loss: 0.7169, Validation Loss: 2.6848\n",
      "Epoch: 120, Train Loss: 0.6420, Validation Loss: 2.7804\n",
      "Epoch: 140, Train Loss: 0.6303, Validation Loss: 2.8491\n",
      "Epoch: 160, Train Loss: 0.5298, Validation Loss: 2.9210\n",
      "Epoch: 180, Train Loss: 0.4980, Validation Loss: 3.0593\n"
     ]
    }
   ],
   "source": [
    "model = model.to(device)\n",
    "train_step = _train_step(model, optimizer, loss_fn)\n",
    "eval_step = _eval_step(model, loss_fn)\n",
    "\n",
    "train_loss = []\n",
    "eval_loss = []\n",
    "best_val_loss = 100\n",
    "\n",
    "for epoch in range(n_epochs):\n",
    "    t_loss = []\n",
    "    e_loss = []\n",
    "    loss = 0\n",
    "    for data in train_loader: #apo edw pairnei ta data\n",
    "        text_input, graph_input, labels = data \n",
    "        graph_input = graph_input.to(device)\n",
    "        text_input = text_input.to(device)\n",
    "        labels = labels.to(device)\n",
    "\n",
    "        \n",
    "        loss = train_step(text_input, graph_input, labels)\n",
    "        t_loss.append(loss)\n",
    "    train_loss.append(np.mean(t_loss))   \n",
    "    \n",
    "    loss = 0\n",
    "    for data in val_loader: #apo edw pairnei ta data\n",
    "        text_input, graph_input, labels = data \n",
    "        graph_input = graph_input.to(device)\n",
    "        text_input = text_input.to(device)\n",
    "        labels = labels.to(device)\n",
    "        \n",
    "        loss = eval_step(text_input, graph_input, labels)\n",
    "        e_loss.append(loss)\n",
    "    eval_loss.append(np.mean(e_loss))\n",
    "\n",
    "    # Remember best validation loss and save checkpoint\n",
    "    is_best = loss <= best_val_loss\n",
    "    best_val_loss = min(loss, best_val_loss)\n",
    "    if is_best:\n",
    "        torch.save({\n",
    "            'state_dict': model.state_dict(),\n",
    "            'optimizer' : optimizer.state_dict(),\n",
    "        }, 'model_best.pth.tar')\n",
    "        \n",
    "    if epoch%20 == 0:\n",
    "        print(f'Epoch: {epoch:>3}, Train Loss: {train_loss[-1]:.4f}, Validation Loss: {eval_loss[-1]:.4f}')"
   ]
  },
  {
   "cell_type": "code",
   "execution_count": 22,
   "id": "abd8a615",
   "metadata": {
    "ExecuteTime": {
     "end_time": "2022-06-12T18:55:10.730800Z",
     "start_time": "2022-06-12T18:55:10.630963Z"
    }
   },
   "outputs": [
    {
     "data": {
      "image/png": "[encoded data removed]",
      "text/plain": [
       "<Figure size 1152x504 with 1 Axes>"
      ]
     },
     "metadata": {
      "needs_background": "light"
     },
     "output_type": "display_data"
    }
   ],
   "source": [
    "fig, ax =plt.subplots(figsize=(16, 7))\n",
    "ax.plot(train_loss, label='train')\n",
    "ax.plot(eval_loss, label='val')\n",
    "plt.legend();"
   ]
  },
  {
   "cell_type": "code",
   "execution_count": 23,
   "id": "e046c462",
   "metadata": {
    "ExecuteTime": {
     "end_time": "2022-06-12T18:55:10.892512Z",
     "start_time": "2022-06-12T18:55:10.731927Z"
    }
   },
   "outputs": [
    {
     "data": {
      "text/plain": [
       "0.14682539682539683"
      ]
     },
     "execution_count": 23,
     "metadata": {},
     "output_type": "execute_result"
    }
   ],
   "source": [
    "# Make predictions\n",
    "checkpoint = torch.load('model_best.pth.tar')\n",
    "model.load_state_dict(checkpoint['state_dict'])\n",
    "model.eval()\n",
    "y_pred = list()\n",
    "for data in val_loader: #apo edw pairnei ta data\n",
    "    text_input, graph_input, labels = data \n",
    "    graph_input = graph_input.to(device)\n",
    "    text_input = text_input.to(device)\n",
    "\n",
    "    output = model(text_input, graph_input)\n",
    "    y_pred.append(torch.exp(output))\n",
    "    \n",
    "y_preds = torch.cat(y_pred, dim=0).detach().cpu().numpy()\n",
    "accuracy_score(y_preds.argmax(axis=1), y_val_text)"
   ]
  },
  {
   "cell_type": "code",
   "execution_count": 25,
   "id": "6f266dd0",
   "metadata": {
    "ExecuteTime": {
     "end_time": "2022-06-12T18:55:35.807716Z",
     "start_time": "2022-06-12T18:55:35.801988Z"
    }
   },
   "outputs": [
    {
     "name": "stdout",
     "output_type": "stream",
     "text": [
      "              precision    recall  f1-score   support\n",
      "\n",
      "           0       0.27      0.22      0.24        67\n",
      "           1       0.06      0.07      0.07        28\n",
      "           2       0.12      0.17      0.14        35\n",
      "           3       0.20      0.19      0.20        69\n",
      "           4       0.00      0.00      0.00        11\n",
      "           5       0.00      0.00      0.00        10\n",
      "           6       0.10      0.07      0.08        14\n",
      "           7       0.00      0.00      0.00         6\n",
      "           8       0.00      0.00      0.00         4\n",
      "           9       0.00      0.00      0.00         8\n",
      "\n",
      "    accuracy                           0.15       252\n",
      "   macro avg       0.08      0.07      0.07       252\n",
      "weighted avg       0.16      0.15      0.15       252\n",
      "\n"
     ]
    }
   ],
   "source": [
    "from sklearn.metrics import confusion_matrix, classification_report\n",
    "print(classification_report(np.array(list(map(int, y_val_text))), y_preds.argmax(axis=1)))"
   ]
  },
  {
   "cell_type": "code",
   "execution_count": 27,
   "id": "09e0729d",
   "metadata": {
    "ExecuteTime": {
     "end_time": "2022-06-12T18:56:31.001784Z",
     "start_time": "2022-06-12T18:56:30.740363Z"
    }
   },
   "outputs": [
    {
     "data": {
      "image/png": "[encoded data removed]",
      "text/plain": [
       "<Figure size 720x720 with 1 Axes>"
      ]
     },
     "metadata": {
      "needs_background": "light"
     },
     "output_type": "display_data"
    }
   ],
   "source": [
    "conf_matr(np.array(list(map(int, y_val_text))), y_preds.argmax(axis=1),5)"
   ]
  },
  {
   "cell_type": "code",
   "execution_count": 28,
   "id": "3e0d528d",
   "metadata": {
    "ExecuteTime": {
     "end_time": "2022-06-12T18:56:38.355635Z",
     "start_time": "2022-06-12T18:56:38.346278Z"
    }
   },
   "outputs": [],
   "source": [
    "list_of_parts_and_labels_test = []\n",
    "for data in zip(X_test_text, X_test_graph):\n",
    "    parts = [torch.LongTensor(data[0]), torch.FloatTensor(data[1])]\n",
    "    list_of_parts_and_labels_test.append([*parts])\n",
    "    \n",
    "test_loader = torch.utils.data.DataLoader(list_of_parts_and_labels_test,\n",
    "            shuffle = True, batch_size = batch_size)"
   ]
  },
  {
   "cell_type": "code",
   "execution_count": 29,
   "id": "503cdf79",
   "metadata": {
    "ExecuteTime": {
     "end_time": "2022-06-12T18:56:40.525776Z",
     "start_time": "2022-06-12T18:56:40.296785Z"
    }
   },
   "outputs": [],
   "source": [
    "# Make predictions\n",
    "checkpoint = torch.load('model_best.pth.tar')\n",
    "model.load_state_dict(checkpoint['state_dict'])\n",
    "model.eval()\n",
    "y_pred = list()\n",
    "for x in test_loader:\n",
    "    text_input = x[0].to(device)\n",
    "    graph_input = x[1].to(device)\n",
    "    \n",
    "    output = model(text_input, graph_input)\n",
    "    y_pred.append(torch.exp(output))\n",
    "y_pred = torch.cat(y_pred, dim=0).detach().cpu().numpy()"
   ]
  },
  {
   "cell_type": "code",
   "execution_count": 30,
   "id": "c4ef646b",
   "metadata": {
    "ExecuteTime": {
     "end_time": "2022-06-12T18:56:47.332894Z",
     "start_time": "2022-06-12T18:56:47.323307Z"
    }
   },
   "outputs": [],
   "source": [
    "# Write predictions to a file\n",
    "with open('sample_submission.csv', 'w') as csvfile:\n",
    "    writer = csv.writer(csvfile, delimiter=',')\n",
    "    lst = list()\n",
    "    for i in range(10):\n",
    "        lst.append('class_'+str(i))\n",
    "    lst.insert(0, \"domain_name\")\n",
    "    writer.writerow(lst)\n",
    "    for i,test_domain in enumerate(test_domains):\n",
    "        lst = y_pred[i,:].tolist()\n",
    "        lst.insert(0, test_domain)\n",
    "        writer.writerow(lst)"
   ]
  }
 ],
 "metadata": {
  "kernelspec": {
   "display_name": "causal",
   "language": "python",
   "name": "causal"
  },
  "language_info": {
   "codemirror_mode": {
    "name": "ipython",
    "version": 3
   },
   "file_extension": ".py",
   "mimetype": "text/x-python",
   "name": "python",
   "nbconvert_exporter": "python",
   "pygments_lexer": "ipython3",
   "version": "3.8.12"
  }
 },
 "nbformat": 4,
 "nbformat_minor": 5
}
